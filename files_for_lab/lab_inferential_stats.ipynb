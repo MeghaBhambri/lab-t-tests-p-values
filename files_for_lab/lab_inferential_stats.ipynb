{
 "cells": [
  {
   "cell_type": "markdown",
   "id": "08a876ea",
   "metadata": {},
   "source": [
    "# Lab | Inferential statistics - T-test & P-value\n"
   ]
  },
  {
   "cell_type": "code",
   "execution_count": 1,
   "id": "70e7efdc",
   "metadata": {},
   "outputs": [],
   "source": [
    "import pandas as pd\n",
    "import numpy as np\n",
    "import scipy.stats as st\n",
    "import matplotlib.pyplot as plt\n",
    "import seaborn as sns"
   ]
  },
  {
   "cell_type": "markdown",
   "id": "c8142a88",
   "metadata": {},
   "source": [
    "One-tailed t-test - In a packing plant, a machine packs cartons with jars. It is supposed that a new machine will pack faster on average than the machine currently used. To test that hypothesis, the times each machine takes to pack ten cartons are recorded. The results are in seconds in the tables in the file files_for_lab/machine.txt. Assume that there is sufficient evidence to conduct the t-test, does the data provide sufficient evidence to show if one machine is better than the other?"
   ]
  },
  {
   "cell_type": "markdown",
   "id": "710fe68b",
   "metadata": {},
   "source": [
    "Null hypothesis (H0): The new machine does not pack faster on average than the machine currently used. In terms of the population means, it can be expressed as:\n",
    "\n",
    "H0: mean_new_machine >= mean_current_machine\n",
    "\n",
    "Alternative hypothesis (H1): The new machine packs faster on average than the machine currently used. This can be expressed as:\n",
    "\n",
    "H1: mean_new_machine < mean_current_machine\n",
    "\n",
    "where:\n",
    "mean_new_machine- is the population mean time taken by the new machine to pack ten cartons.\n",
    "mean_current_machine- is the population mean time taken by the machine currently in use to pack ten cartons."
   ]
  },
  {
   "cell_type": "code",
   "execution_count": 2,
   "id": "87b1a467",
   "metadata": {},
   "outputs": [],
   "source": [
    "machine = pd.read_csv('machine.txt',delimiter='\\t', encoding='utf-16')"
   ]
  },
  {
   "cell_type": "code",
   "execution_count": 3,
   "id": "9ccce18f",
   "metadata": {},
   "outputs": [
    {
     "data": {
      "text/html": [
       "<div>\n",
       "<style scoped>\n",
       "    .dataframe tbody tr th:only-of-type {\n",
       "        vertical-align: middle;\n",
       "    }\n",
       "\n",
       "    .dataframe tbody tr th {\n",
       "        vertical-align: top;\n",
       "    }\n",
       "\n",
       "    .dataframe thead th {\n",
       "        text-align: right;\n",
       "    }\n",
       "</style>\n",
       "<table border=\"1\" class=\"dataframe\">\n",
       "  <thead>\n",
       "    <tr style=\"text-align: right;\">\n",
       "      <th></th>\n",
       "      <th>New machine</th>\n",
       "      <th>Old machine</th>\n",
       "    </tr>\n",
       "  </thead>\n",
       "  <tbody>\n",
       "    <tr>\n",
       "      <th>0</th>\n",
       "      <td>42.1</td>\n",
       "      <td>42.7</td>\n",
       "    </tr>\n",
       "    <tr>\n",
       "      <th>1</th>\n",
       "      <td>41.0</td>\n",
       "      <td>43.6</td>\n",
       "    </tr>\n",
       "    <tr>\n",
       "      <th>2</th>\n",
       "      <td>41.3</td>\n",
       "      <td>43.8</td>\n",
       "    </tr>\n",
       "    <tr>\n",
       "      <th>3</th>\n",
       "      <td>41.8</td>\n",
       "      <td>43.3</td>\n",
       "    </tr>\n",
       "    <tr>\n",
       "      <th>4</th>\n",
       "      <td>42.4</td>\n",
       "      <td>42.5</td>\n",
       "    </tr>\n",
       "  </tbody>\n",
       "</table>\n",
       "</div>"
      ],
      "text/plain": [
       "   New machine      Old machine\n",
       "0         42.1             42.7\n",
       "1         41.0             43.6\n",
       "2         41.3             43.8\n",
       "3         41.8             43.3\n",
       "4         42.4             42.5"
      ]
     },
     "execution_count": 3,
     "metadata": {},
     "output_type": "execute_result"
    }
   ],
   "source": [
    "machine.head()"
   ]
  },
  {
   "cell_type": "code",
   "execution_count": 4,
   "id": "564ff835",
   "metadata": {},
   "outputs": [
    {
     "data": {
      "text/plain": [
       "Index(['New machine', '    Old machine'], dtype='object')"
      ]
     },
     "execution_count": 4,
     "metadata": {},
     "output_type": "execute_result"
    }
   ],
   "source": [
    "machine.columns"
   ]
  },
  {
   "cell_type": "code",
   "execution_count": 5,
   "id": "6acfdd3e",
   "metadata": {},
   "outputs": [
    {
     "name": "stdout",
     "output_type": "stream",
     "text": [
      "tstat- -3.3972307061176026\n",
      "p_value- 0.00324224946631798\n",
      "Reject the null hypothesis.\n"
     ]
    }
   ],
   "source": [
    "# Extract the columns for the new and old machine\n",
    "new_machine_times = machine['New machine']\n",
    "old_machine_times = machine['    Old machine']\n",
    "\n",
    "# Compute the means for both machines\n",
    "mean_new_machine = new_machine_times.mean()\n",
    "mean_old_machine = old_machine_times.mean()\n",
    "\n",
    "# Perform one-tailed t-test assuming unequal variances\n",
    "t_stat, p_value = st.ttest_ind(new_machine_times, old_machine_times, equal_var=False)\n",
    "\n",
    "# Define the significance level\n",
    "alpha = 0.05\n",
    "#print t_stat and p_value\n",
    "print(\"tstat-\", t_stat)\n",
    "print(\"p_value-\", p_value)\n",
    "# Check if the p-value is less than the significance level\n",
    "if p_value < alpha and mean_new_machine < mean_old_machine:\n",
    "    print(\"Reject the null hypothesis.\")\n",
    "else:\n",
    "    print(\"Fail to reject the null hypothesis.\")"
   ]
  },
  {
   "cell_type": "markdown",
   "id": "0a476206",
   "metadata": {},
   "source": [
    "p-value is less than the significance level of 0.05 and the mean time taken by the new machine is less than the mean time taken by the old machine, we reject the null hypothesis. Therefore, there is sufficient evidence to suggest that the new machine packs faster than the old machine."
   ]
  },
  {
   "cell_type": "markdown",
   "id": "90daf4fe",
   "metadata": {},
   "source": [
    "Matched Pairs Test - In this challenge we will compare dependent samples of data describing our Pokemon (file files_for_lab/pokemon.csv). Our goal is to see whether there is a significant difference between each Pokemon's defense and attack scores. Our hypothesis is that the defense and attack scores are equal. Compare the two columns to see if there is a statistically significant difference between them and comment on your result."
   ]
  },
  {
   "cell_type": "code",
   "execution_count": 6,
   "id": "3dee50ee",
   "metadata": {},
   "outputs": [],
   "source": [
    "pokemon = pd.read_csv('pokemon.csv')"
   ]
  },
  {
   "cell_type": "code",
   "execution_count": 7,
   "id": "546078cb",
   "metadata": {},
   "outputs": [
    {
     "data": {
      "text/html": [
       "<div>\n",
       "<style scoped>\n",
       "    .dataframe tbody tr th:only-of-type {\n",
       "        vertical-align: middle;\n",
       "    }\n",
       "\n",
       "    .dataframe tbody tr th {\n",
       "        vertical-align: top;\n",
       "    }\n",
       "\n",
       "    .dataframe thead th {\n",
       "        text-align: right;\n",
       "    }\n",
       "</style>\n",
       "<table border=\"1\" class=\"dataframe\">\n",
       "  <thead>\n",
       "    <tr style=\"text-align: right;\">\n",
       "      <th></th>\n",
       "      <th>#</th>\n",
       "      <th>Name</th>\n",
       "      <th>Type 1</th>\n",
       "      <th>Type 2</th>\n",
       "      <th>Total</th>\n",
       "      <th>HP</th>\n",
       "      <th>Attack</th>\n",
       "      <th>Defense</th>\n",
       "      <th>Sp. Atk</th>\n",
       "      <th>Sp. Def</th>\n",
       "      <th>Speed</th>\n",
       "      <th>Generation</th>\n",
       "      <th>Legendary</th>\n",
       "    </tr>\n",
       "  </thead>\n",
       "  <tbody>\n",
       "    <tr>\n",
       "      <th>0</th>\n",
       "      <td>1</td>\n",
       "      <td>Bulbasaur</td>\n",
       "      <td>Grass</td>\n",
       "      <td>Poison</td>\n",
       "      <td>318</td>\n",
       "      <td>45</td>\n",
       "      <td>49</td>\n",
       "      <td>49</td>\n",
       "      <td>65</td>\n",
       "      <td>65</td>\n",
       "      <td>45</td>\n",
       "      <td>1</td>\n",
       "      <td>False</td>\n",
       "    </tr>\n",
       "    <tr>\n",
       "      <th>1</th>\n",
       "      <td>2</td>\n",
       "      <td>Ivysaur</td>\n",
       "      <td>Grass</td>\n",
       "      <td>Poison</td>\n",
       "      <td>405</td>\n",
       "      <td>60</td>\n",
       "      <td>62</td>\n",
       "      <td>63</td>\n",
       "      <td>80</td>\n",
       "      <td>80</td>\n",
       "      <td>60</td>\n",
       "      <td>1</td>\n",
       "      <td>False</td>\n",
       "    </tr>\n",
       "    <tr>\n",
       "      <th>2</th>\n",
       "      <td>3</td>\n",
       "      <td>Venusaur</td>\n",
       "      <td>Grass</td>\n",
       "      <td>Poison</td>\n",
       "      <td>525</td>\n",
       "      <td>80</td>\n",
       "      <td>82</td>\n",
       "      <td>83</td>\n",
       "      <td>100</td>\n",
       "      <td>100</td>\n",
       "      <td>80</td>\n",
       "      <td>1</td>\n",
       "      <td>False</td>\n",
       "    </tr>\n",
       "    <tr>\n",
       "      <th>3</th>\n",
       "      <td>3</td>\n",
       "      <td>VenusaurMega Venusaur</td>\n",
       "      <td>Grass</td>\n",
       "      <td>Poison</td>\n",
       "      <td>625</td>\n",
       "      <td>80</td>\n",
       "      <td>100</td>\n",
       "      <td>123</td>\n",
       "      <td>122</td>\n",
       "      <td>120</td>\n",
       "      <td>80</td>\n",
       "      <td>1</td>\n",
       "      <td>False</td>\n",
       "    </tr>\n",
       "    <tr>\n",
       "      <th>4</th>\n",
       "      <td>4</td>\n",
       "      <td>Charmander</td>\n",
       "      <td>Fire</td>\n",
       "      <td>NaN</td>\n",
       "      <td>309</td>\n",
       "      <td>39</td>\n",
       "      <td>52</td>\n",
       "      <td>43</td>\n",
       "      <td>60</td>\n",
       "      <td>50</td>\n",
       "      <td>65</td>\n",
       "      <td>1</td>\n",
       "      <td>False</td>\n",
       "    </tr>\n",
       "  </tbody>\n",
       "</table>\n",
       "</div>"
      ],
      "text/plain": [
       "   #                   Name Type 1  Type 2  Total  HP  Attack  Defense  \\\n",
       "0  1              Bulbasaur  Grass  Poison    318  45      49       49   \n",
       "1  2                Ivysaur  Grass  Poison    405  60      62       63   \n",
       "2  3               Venusaur  Grass  Poison    525  80      82       83   \n",
       "3  3  VenusaurMega Venusaur  Grass  Poison    625  80     100      123   \n",
       "4  4             Charmander   Fire     NaN    309  39      52       43   \n",
       "\n",
       "   Sp. Atk  Sp. Def  Speed  Generation  Legendary  \n",
       "0       65       65     45           1      False  \n",
       "1       80       80     60           1      False  \n",
       "2      100      100     80           1      False  \n",
       "3      122      120     80           1      False  \n",
       "4       60       50     65           1      False  "
      ]
     },
     "execution_count": 7,
     "metadata": {},
     "output_type": "execute_result"
    }
   ],
   "source": [
    "pokemon.head()"
   ]
  },
  {
   "cell_type": "markdown",
   "id": "06c14f47",
   "metadata": {},
   "source": [
    "Null hypothesis (H0): There is no significant difference between each Pokemon's defense and attack scores In terms of the population means, it can be expressed as:\n",
    "\n",
    "H0: mean_defense = mean_attack\n",
    "\n",
    "Alternative hypothesis (H1): There is no significant difference between each Pokemon's defense and attack scores In terms of the population means, it can be expressed as:\n",
    "\n",
    "H0: mean_defense != mean_attack\n"
   ]
  },
  {
   "cell_type": "code",
   "execution_count": 8,
   "id": "3cb0d19c",
   "metadata": {},
   "outputs": [],
   "source": [
    "pokemon_attack_defense = pokemon[['Attack' , 'Defense']]"
   ]
  },
  {
   "cell_type": "code",
   "execution_count": 9,
   "id": "e0cb7532",
   "metadata": {},
   "outputs": [
    {
     "data": {
      "text/html": [
       "<div>\n",
       "<style scoped>\n",
       "    .dataframe tbody tr th:only-of-type {\n",
       "        vertical-align: middle;\n",
       "    }\n",
       "\n",
       "    .dataframe tbody tr th {\n",
       "        vertical-align: top;\n",
       "    }\n",
       "\n",
       "    .dataframe thead th {\n",
       "        text-align: right;\n",
       "    }\n",
       "</style>\n",
       "<table border=\"1\" class=\"dataframe\">\n",
       "  <thead>\n",
       "    <tr style=\"text-align: right;\">\n",
       "      <th></th>\n",
       "      <th>Attack</th>\n",
       "      <th>Defense</th>\n",
       "    </tr>\n",
       "  </thead>\n",
       "  <tbody>\n",
       "    <tr>\n",
       "      <th>0</th>\n",
       "      <td>49</td>\n",
       "      <td>49</td>\n",
       "    </tr>\n",
       "    <tr>\n",
       "      <th>1</th>\n",
       "      <td>62</td>\n",
       "      <td>63</td>\n",
       "    </tr>\n",
       "    <tr>\n",
       "      <th>2</th>\n",
       "      <td>82</td>\n",
       "      <td>83</td>\n",
       "    </tr>\n",
       "    <tr>\n",
       "      <th>3</th>\n",
       "      <td>100</td>\n",
       "      <td>123</td>\n",
       "    </tr>\n",
       "    <tr>\n",
       "      <th>4</th>\n",
       "      <td>52</td>\n",
       "      <td>43</td>\n",
       "    </tr>\n",
       "  </tbody>\n",
       "</table>\n",
       "</div>"
      ],
      "text/plain": [
       "   Attack  Defense\n",
       "0      49       49\n",
       "1      62       63\n",
       "2      82       83\n",
       "3     100      123\n",
       "4      52       43"
      ]
     },
     "execution_count": 9,
     "metadata": {},
     "output_type": "execute_result"
    }
   ],
   "source": [
    "pokemon_attack_defense.head()"
   ]
  },
  {
   "cell_type": "code",
   "execution_count": 10,
   "id": "cb521946",
   "metadata": {},
   "outputs": [
    {
     "data": {
      "text/html": [
       "<div>\n",
       "<style scoped>\n",
       "    .dataframe tbody tr th:only-of-type {\n",
       "        vertical-align: middle;\n",
       "    }\n",
       "\n",
       "    .dataframe tbody tr th {\n",
       "        vertical-align: top;\n",
       "    }\n",
       "\n",
       "    .dataframe thead th {\n",
       "        text-align: right;\n",
       "    }\n",
       "</style>\n",
       "<table border=\"1\" class=\"dataframe\">\n",
       "  <thead>\n",
       "    <tr style=\"text-align: right;\">\n",
       "      <th></th>\n",
       "      <th>Attack</th>\n",
       "      <th>Defense</th>\n",
       "      <th>difference</th>\n",
       "    </tr>\n",
       "  </thead>\n",
       "  <tbody>\n",
       "    <tr>\n",
       "      <th>8</th>\n",
       "      <td>104</td>\n",
       "      <td>78</td>\n",
       "      <td>26</td>\n",
       "    </tr>\n",
       "    <tr>\n",
       "      <th>510</th>\n",
       "      <td>92</td>\n",
       "      <td>75</td>\n",
       "      <td>17</td>\n",
       "    </tr>\n",
       "    <tr>\n",
       "      <th>175</th>\n",
       "      <td>46</td>\n",
       "      <td>34</td>\n",
       "      <td>12</td>\n",
       "    </tr>\n",
       "    <tr>\n",
       "      <th>735</th>\n",
       "      <td>50</td>\n",
       "      <td>58</td>\n",
       "      <td>-8</td>\n",
       "    </tr>\n",
       "    <tr>\n",
       "      <th>242</th>\n",
       "      <td>105</td>\n",
       "      <td>75</td>\n",
       "      <td>30</td>\n",
       "    </tr>\n",
       "  </tbody>\n",
       "</table>\n",
       "</div>"
      ],
      "text/plain": [
       "     Attack  Defense  difference\n",
       "8       104       78          26\n",
       "510      92       75          17\n",
       "175      46       34          12\n",
       "735      50       58          -8\n",
       "242     105       75          30"
      ]
     },
     "execution_count": 10,
     "metadata": {},
     "output_type": "execute_result"
    }
   ],
   "source": [
    "#selecting sample\n",
    "sample = pokemon_attack_defense.sample(30, random_state = 1)\n",
    "sample['difference'] = sample['Attack']-sample['Defense']\n",
    "sample.head()"
   ]
  },
  {
   "cell_type": "code",
   "execution_count": 11,
   "id": "7a2c11c2",
   "metadata": {},
   "outputs": [
    {
     "data": {
      "text/plain": [
       "(2.8, 36.32079294288603)"
      ]
     },
     "execution_count": 11,
     "metadata": {},
     "output_type": "execute_result"
    }
   ],
   "source": [
    "#calculating mean and std\n",
    "sample_diff_mean, sample_diff_std = sample['difference'].mean(), sample['difference'].std(ddof=1)\n",
    "sample_diff_mean, sample_diff_std"
   ]
  },
  {
   "cell_type": "code",
   "execution_count": 12,
   "id": "37683855",
   "metadata": {},
   "outputs": [],
   "source": [
    "#computing tstat"
   ]
  },
  {
   "cell_type": "code",
   "execution_count": 13,
   "id": "ff7626d1",
   "metadata": {},
   "outputs": [
    {
     "name": "stdout",
     "output_type": "stream",
     "text": [
      "The mean of our samples differences is: 2.80\n",
      "The standard deviation of our samples differences is: 36.32\n",
      "Our t statistics is: 0.42\n"
     ]
    }
   ],
   "source": [
    "t = sample_diff_mean / ( sample_diff_std / np.sqrt(sample.shape[0]) )\n",
    "print(\"The mean of our samples differences is: {:.2f}\".format(sample_diff_mean))\n",
    "print(\"The standard deviation of our samples differences is: {:.2f}\".format(sample_diff_std))\n",
    "print(\"Our t statistics is: {:.2f}\".format(t))"
   ]
  },
  {
   "cell_type": "code",
   "execution_count": 14,
   "id": "4c60e6fa",
   "metadata": {},
   "outputs": [
    {
     "data": {
      "text/plain": [
       "2.045229642132703"
      ]
     },
     "execution_count": 14,
     "metadata": {},
     "output_type": "execute_result"
    }
   ],
   "source": [
    "#computing critical value\n",
    "tc = st.t.ppf(1-(0.05/2),df= sample.shape[0] - 1)\n",
    "tc"
   ]
  },
  {
   "cell_type": "markdown",
   "id": "50158a3d",
   "metadata": {},
   "source": [
    "Our statistic is 0.42 while the critical value is 2.045. Then, as 0.42 < 2.05 we accept the H0.\n",
    "t-statistic is much smaller than the critical value. This implies that we fail to reject the null hypothesis. "
   ]
  },
  {
   "cell_type": "code",
   "execution_count": 15,
   "id": "5dc8e46a",
   "metadata": {},
   "outputs": [
    {
     "data": {
      "text/plain": [
       "0.3379805871158601"
      ]
     },
     "execution_count": 15,
     "metadata": {},
     "output_type": "execute_result"
    }
   ],
   "source": [
    "#With p_values\n",
    "1-st.t.cdf(t,df = sample.shape[0] - 1)"
   ]
  },
  {
   "cell_type": "markdown",
   "id": "164df8ac",
   "metadata": {},
   "source": [
    "since p value is graeter than 0.05 ,this suggests that there is no significant difference between the Attack and Defense scores of the Pokemon. therefore we accept null hypothesis"
   ]
  },
  {
   "cell_type": "code",
   "execution_count": 16,
   "id": "fd6be66c",
   "metadata": {},
   "outputs": [
    {
     "data": {
      "text/plain": [
       "TtestResult(statistic=0.4222438544846934, pvalue=0.6759611742317202, df=29)"
      ]
     },
     "execution_count": 16,
     "metadata": {},
     "output_type": "execute_result"
    }
   ],
   "source": [
    "#using scipy\n",
    "st.ttest_rel(sample['Attack'],sample['Defense'])"
   ]
  },
  {
   "cell_type": "code",
   "execution_count": 17,
   "id": "c9fe34ee",
   "metadata": {},
   "outputs": [
    {
     "data": {
      "text/plain": [
       "0.3379805871158601"
      ]
     },
     "execution_count": 17,
     "metadata": {},
     "output_type": "execute_result"
    }
   ],
   "source": [
    "1-st.t.cdf(t,df = sample.shape[0] - 1)"
   ]
  },
  {
   "cell_type": "markdown",
   "id": "35e35452",
   "metadata": {},
   "source": [
    "the p-value is 0.3379805871158601, which is greater than the typical significance level of 0.05, therefore we accept null hypothesis"
   ]
  },
  {
   "cell_type": "markdown",
   "id": "b45f8b65",
   "metadata": {},
   "source": [
    "# Inferential statistics - ANOVA"
   ]
  },
  {
   "cell_type": "markdown",
   "id": "d50fd2e7",
   "metadata": {},
   "source": [
    "In this activity, we will look at another example. Your task is to understand the problem and write down all the steps to set up ANOVA. - Null hypothesis - Alternate hypothesis - Level of significance - Test statistic - P-value - F table"
   ]
  },
  {
   "cell_type": "markdown",
   "id": "e0e50189",
   "metadata": {},
   "source": [
    "Suppose you are working as an analyst in a microprocessor chip manufacturing plant. You have been given the task of analyzing a plasma etching process with respect to changing Power (in Watts) of the plasma beam. Data was collected and provided to you to conduct statistical analysis and check if changing the power of the plasma beam has any effect on the etching rate by the machine. You will conduct ANOVA and check if there is any difference in the mean etching rate for different levels of power. You can find the data anova_lab_data.xlsx file in the files_for_lab folder\n",
    "\n",
    "State the null hypothesis\n",
    "State the alternate hypothesis\n",
    "What is the significance level\n",
    "What are the degrees of freedom of the model, error terms, and total DoF\n",
    "Data were collected randomly and provided to you in the table as shown: link to the image - Data"
   ]
  },
  {
   "cell_type": "code",
   "execution_count": 18,
   "id": "1d1cff4a",
   "metadata": {},
   "outputs": [],
   "source": [
    "anova_data = pd.read_excel('anova_lab_data.xlsx')"
   ]
  },
  {
   "cell_type": "code",
   "execution_count": 19,
   "id": "59c9afe4",
   "metadata": {
    "scrolled": true
   },
   "outputs": [
    {
     "data": {
      "text/html": [
       "<div>\n",
       "<style scoped>\n",
       "    .dataframe tbody tr th:only-of-type {\n",
       "        vertical-align: middle;\n",
       "    }\n",
       "\n",
       "    .dataframe tbody tr th {\n",
       "        vertical-align: top;\n",
       "    }\n",
       "\n",
       "    .dataframe thead th {\n",
       "        text-align: right;\n",
       "    }\n",
       "</style>\n",
       "<table border=\"1\" class=\"dataframe\">\n",
       "  <thead>\n",
       "    <tr style=\"text-align: right;\">\n",
       "      <th></th>\n",
       "      <th>Power</th>\n",
       "      <th>Etching Rate</th>\n",
       "    </tr>\n",
       "  </thead>\n",
       "  <tbody>\n",
       "    <tr>\n",
       "      <th>0</th>\n",
       "      <td>160 W</td>\n",
       "      <td>5.43</td>\n",
       "    </tr>\n",
       "    <tr>\n",
       "      <th>1</th>\n",
       "      <td>180 W</td>\n",
       "      <td>6.24</td>\n",
       "    </tr>\n",
       "    <tr>\n",
       "      <th>2</th>\n",
       "      <td>200 W</td>\n",
       "      <td>8.79</td>\n",
       "    </tr>\n",
       "    <tr>\n",
       "      <th>3</th>\n",
       "      <td>160 W</td>\n",
       "      <td>5.71</td>\n",
       "    </tr>\n",
       "    <tr>\n",
       "      <th>4</th>\n",
       "      <td>180 W</td>\n",
       "      <td>6.71</td>\n",
       "    </tr>\n",
       "  </tbody>\n",
       "</table>\n",
       "</div>"
      ],
      "text/plain": [
       "  Power   Etching Rate\n",
       "0  160 W          5.43\n",
       "1  180 W          6.24\n",
       "2  200 W          8.79\n",
       "3  160 W          5.71\n",
       "4  180 W          6.71"
      ]
     },
     "execution_count": 19,
     "metadata": {},
     "output_type": "execute_result"
    }
   ],
   "source": [
    "anova_data.head()"
   ]
  },
  {
   "cell_type": "markdown",
   "id": "95a20c1e",
   "metadata": {},
   "source": [
    "State the null hypothesis-\n",
    "Null Hypothesis:The mean etching rate is same for different levels of power.\n",
    "State the alternate hypothesis -\n",
    "Alternate Hypothesis:The mean etching rate is not same for different levels of power\n",
    "What is the significance level?\n",
    "0.05\n",
    "\n"
   ]
  },
  {
   "cell_type": "markdown",
   "id": "7d94c4f3",
   "metadata": {},
   "source": [
    "What are the degrees of freedom of the model, error terms, and total DoF"
   ]
  },
  {
   "cell_type": "code",
   "execution_count": 20,
   "id": "82cf1078",
   "metadata": {},
   "outputs": [
    {
     "data": {
      "text/plain": [
       "Index(['Power ', 'Etching Rate'], dtype='object')"
      ]
     },
     "execution_count": 20,
     "metadata": {},
     "output_type": "execute_result"
    }
   ],
   "source": [
    "anova_data.columns"
   ]
  },
  {
   "cell_type": "code",
   "execution_count": 21,
   "id": "1d00c8fd",
   "metadata": {},
   "outputs": [
    {
     "data": {
      "text/html": [
       "<div>\n",
       "<style scoped>\n",
       "    .dataframe tbody tr th:only-of-type {\n",
       "        vertical-align: middle;\n",
       "    }\n",
       "\n",
       "    .dataframe tbody tr th {\n",
       "        vertical-align: top;\n",
       "    }\n",
       "\n",
       "    .dataframe thead th {\n",
       "        text-align: right;\n",
       "    }\n",
       "</style>\n",
       "<table border=\"1\" class=\"dataframe\">\n",
       "  <thead>\n",
       "    <tr style=\"text-align: right;\">\n",
       "      <th></th>\n",
       "      <th>Power</th>\n",
       "      <th>Totals</th>\n",
       "      <th>Averages</th>\n",
       "    </tr>\n",
       "  </thead>\n",
       "  <tbody>\n",
       "    <tr>\n",
       "      <th>0</th>\n",
       "      <td>160 W</td>\n",
       "      <td>28.96</td>\n",
       "      <td>5.792</td>\n",
       "    </tr>\n",
       "    <tr>\n",
       "      <th>1</th>\n",
       "      <td>180 W</td>\n",
       "      <td>31.19</td>\n",
       "      <td>6.238</td>\n",
       "    </tr>\n",
       "    <tr>\n",
       "      <th>2</th>\n",
       "      <td>200 W</td>\n",
       "      <td>41.59</td>\n",
       "      <td>8.318</td>\n",
       "    </tr>\n",
       "  </tbody>\n",
       "</table>\n",
       "</div>"
      ],
      "text/plain": [
       "  Power   Totals  Averages\n",
       "0  160 W   28.96     5.792\n",
       "1  180 W   31.19     6.238\n",
       "2  200 W   41.59     8.318"
      ]
     },
     "execution_count": 21,
     "metadata": {},
     "output_type": "execute_result"
    }
   ],
   "source": [
    "group_df = anova_data.groupby('Power ')['Etching Rate'].agg( Totals='sum' , Averages='mean').reset_index()\n",
    "group_df"
   ]
  },
  {
   "cell_type": "code",
   "execution_count": 22,
   "id": "76f81006",
   "metadata": {},
   "outputs": [
    {
     "name": "stdout",
     "output_type": "stream",
     "text": [
      "Number of degrees of freedom d1:  2\n",
      "Number of degrees of freedom d2:  12\n",
      "Total degrees of freedom:  14\n"
     ]
    }
   ],
   "source": [
    "d1 = anova_data['Power '].nunique() - 1    # model terms\n",
    "d2 = len(anova_data) - anova_data['Power '].nunique()  # error terms\n",
    "total_dof = len(anova_data) - 1                          # total dof\n",
    "print(\"Number of degrees of freedom d1: \",d1)\n",
    "print(\"Number of degrees of freedom d2: \",d2)\n",
    "print(\"Total degrees of freedom: \", total_dof)"
   ]
  },
  {
   "cell_type": "markdown",
   "id": "cdd40b2e",
   "metadata": {},
   "source": [
    "# Part 2"
   ]
  },
  {
   "cell_type": "markdown",
   "id": "13c667c3",
   "metadata": {},
   "source": [
    "using scipy.stats includes a function ANOVA"
   ]
  },
  {
   "cell_type": "code",
   "execution_count": 24,
   "id": "4a0624bd",
   "metadata": {},
   "outputs": [
    {
     "name": "stdout",
     "output_type": "stream",
     "text": [
      "36.87895470100505 7.506584272358903e-06\n"
     ]
    }
   ],
   "source": [
    "from scipy.stats import f_oneway\n",
    "\n",
    "f_stat, p_val = f_oneway(anova_data[anova_data['Power '] == '160 W']['Etching Rate'],\n",
    "                         anova_data[anova_data['Power '] == '180 W']['Etching Rate'],\n",
    "                         anova_data[anova_data['Power '] == '200 W']['Etching Rate'])\n",
    "print(f_stat, p_val)"
   ]
  },
  {
   "cell_type": "markdown",
   "id": "78aa11ce",
   "metadata": {},
   "source": [
    "using python"
   ]
  },
  {
   "cell_type": "code",
   "execution_count": 25,
   "id": "52608ed4",
   "metadata": {},
   "outputs": [
    {
     "name": "stdout",
     "output_type": "stream",
     "text": [
      "The value of S2t is 9.09\n"
     ]
    }
   ],
   "source": [
    "# In our case, the groups are the power, and the \"y\" is the \"Etching Rate\"\n",
    "S2t = 0\n",
    "for power in anova_data['Power '].unique():\n",
    "    ng = len(anova_data[anova_data['Power '] == power])\n",
    "    S2t  += ng * ( ( anova_data[anova_data['Power '] == power]['Etching Rate'].mean() - anova_data['Etching Rate'].mean() ) ** 2)\n",
    "S2t /= ( anova_data['Power '].nunique() - 1 ) # Number of  K = groups/cities\n",
    "\n",
    "print(\"The value of S2t is {:.2f}\".format(S2t))"
   ]
  },
  {
   "cell_type": "code",
   "execution_count": 26,
   "id": "0e3c4bd9",
   "metadata": {},
   "outputs": [
    {
     "name": "stdout",
     "output_type": "stream",
     "text": [
      "\n",
      "The value of S2E is 0.25\n"
     ]
    }
   ],
   "source": [
    "S2E = 0\n",
    "for power in anova_data['Power '].unique():\n",
    "    for rate in anova_data[anova_data['Power '] == power]['Etching Rate']:\n",
    "        S2E += ( rate - anova_data[anova_data['Power '] == power]['Etching Rate'].mean() ) ** 2\n",
    "S2E /= ( len(anova_data) - anova_data['Power '].nunique() )\n",
    "\n",
    "print()\n",
    "print(\"The value of S2E is {:.2f}\".format(S2E))"
   ]
  },
  {
   "cell_type": "code",
   "execution_count": 27,
   "id": "48231d40",
   "metadata": {},
   "outputs": [
    {
     "name": "stdout",
     "output_type": "stream",
     "text": [
      "The value of S2E is 0.25\n"
     ]
    }
   ],
   "source": [
    "S2E2 = 0\n",
    "for power in anova_data['Power '].unique():\n",
    "    group_data = anova_data[anova_data['Power '] == power]['Etching Rate']\n",
    "    ng = len(group_data)\n",
    "    S2E2 += (ng - 1) * np.var(group_data, ddof=1)\n",
    "S2E2 /= (len(anova_data) - anova_data['Power '].nunique())\n",
    "\n",
    "print(\"The value of S2E is {:.2f}\".format(S2E2))"
   ]
  },
  {
   "cell_type": "code",
   "execution_count": 28,
   "id": "24077e28",
   "metadata": {},
   "outputs": [
    {
     "name": "stdout",
     "output_type": "stream",
     "text": [
      "The value of F is 36.88\n"
     ]
    }
   ],
   "source": [
    "#compute F:\n",
    "F = S2t / S2E\n",
    "print(\"The value of F is {:.2f}\".format(F))"
   ]
  },
  {
   "cell_type": "code",
   "execution_count": 29,
   "id": "eebe64ec",
   "metadata": {},
   "outputs": [
    {
     "data": {
      "text/plain": [
       "0.9999924934157276"
      ]
     },
     "execution_count": 29,
     "metadata": {},
     "output_type": "execute_result"
    }
   ],
   "source": [
    "st.f.cdf(F,dfn=d1, dfd=d2)"
   ]
  },
  {
   "cell_type": "code",
   "execution_count": 30,
   "id": "79511413",
   "metadata": {},
   "outputs": [
    {
     "data": {
      "text/plain": [
       "7.5065842723986975e-06"
      ]
     },
     "execution_count": 30,
     "metadata": {},
     "output_type": "execute_result"
    }
   ],
   "source": [
    "1 - st.f.cdf(F,dfn=d1, dfd=d2)"
   ]
  },
  {
   "cell_type": "markdown",
   "id": "c5723373",
   "metadata": {},
   "source": [
    "both the methods give f value as 36.88 and probability as v small\n",
    "As the p_value is < 0.05 we reject the H0."
   ]
  }
 ],
 "metadata": {
  "kernelspec": {
   "display_name": "Python 3 (ipykernel)",
   "language": "python",
   "name": "python3"
  },
  "language_info": {
   "codemirror_mode": {
    "name": "ipython",
    "version": 3
   },
   "file_extension": ".py",
   "mimetype": "text/x-python",
   "name": "python",
   "nbconvert_exporter": "python",
   "pygments_lexer": "ipython3",
   "version": "3.10.9"
  }
 },
 "nbformat": 4,
 "nbformat_minor": 5
}
